{
 "cells": [
  {
   "cell_type": "markdown",
   "metadata": {},
   "source": [
    "## Environment Details\n",
    "\n",
    "* **OS : Windows**\n",
    "* **CPU : i7 6700HQ ~2.60GHz**\n",
    "* **GPU : GTX 1060 6GB**\n",
    "* **RAM : 16GB**"
   ]
  },
  {
   "cell_type": "markdown",
   "metadata": {},
   "source": [
    "## Dependencies\n",
    "\n",
    "* **tensorflow : 2.2.1**\n",
    "* **numpy : 1.18.1**\n",
    "* **matplotlib : 3.1.3**"
   ]
  },
  {
   "cell_type": "markdown",
   "metadata": {},
   "source": [
    "## Dataset Details :\n",
    "\n",
    "Trained and tested model on the American Sign Language Dataset. Its a dataset of $24$ classes, containing images of $28 \\times 28$ shape and its big enough to experiment with different dataset sizes on this Siamese Network. You can check the dataset [here](https://www.kaggle.com/datamunge/sign-language-mnist). "
   ]
  },
  {
   "cell_type": "markdown",
   "metadata": {},
   "source": [
    "## Find available GPUs and set memory growth to optimal\n",
    "\n",
    "Because, by default tensorflow is very memory hungry and will allocate everything without considering optimality."
   ]
  },
  {
   "cell_type": "code",
   "execution_count": 1,
   "metadata": {},
   "outputs": [],
   "source": [
    "import tensorflow as tf"
   ]
  },
  {
   "cell_type": "code",
   "execution_count": 2,
   "metadata": {},
   "outputs": [],
   "source": [
    "physical_devices = tf.config.experimental.list_physical_devices('GPU')\n",
    "tf.config.experimental.set_memory_growth(physical_devices[0], True)"
   ]
  },
  {
   "cell_type": "code",
   "execution_count": 3,
   "metadata": {},
   "outputs": [
    {
     "data": {
      "text/plain": [
       "[PhysicalDevice(name='/physical_device:GPU:0', device_type='GPU')]"
      ]
     },
     "execution_count": 3,
     "metadata": {},
     "output_type": "execute_result"
    }
   ],
   "source": [
    "physical_devices"
   ]
  },
  {
   "cell_type": "markdown",
   "metadata": {},
   "source": [
    "## Build the Siamese Model Architecture\n",
    "\n",
    "The working has been explained in the [README](https://github.com/sudoRicheek/Siamese-Net-One-Shot-Learning/blob/master/README.md)."
   ]
  },
  {
   "cell_type": "code",
   "execution_count": 5,
   "metadata": {},
   "outputs": [
    {
     "data": {
      "text/plain": [
       "4625921"
      ]
     },
     "execution_count": 5,
     "metadata": {},
     "output_type": "execute_result"
    }
   ],
   "source": [
    "from tensorflow.keras.layers import Input, Conv2D, Lambda, Dense, Flatten,MaxPooling2D\n",
    "from tensorflow.keras.models import Model, Sequential\n",
    "from tensorflow.keras.regularizers import l2\n",
    "from tensorflow.keras import backend as K\n",
    "from tensorflow.keras.optimizers import SGD,Adam\n",
    "from tensorflow.keras.losses import binary_crossentropy\n",
    "\n",
    "import numpy.random as rng\n",
    "import numpy as np\n",
    "\n",
    "import matplotlib.pyplot as plt\n",
    "\n",
    "from sklearn.utils import shuffle\n",
    "%matplotlib inline\n",
    "\n",
    "def W_init(shape,dtype=None):\n",
    "    #---->Random Initialization of weights\n",
    "    values = rng.normal(loc=0,scale=1e-1,size=shape)\n",
    "    return K.variable(values,dtype=dtype)\n",
    "\n",
    "def b_init(shape,dtype=None):\n",
    "    #---->Random Initialization of Network Biases\n",
    "    values=rng.normal(loc=0.5,scale=1e-1,size=shape)\n",
    "    return K.variable(values,dtype=dtype)\n",
    "\n",
    "#---->Build the Siamese Legs\n",
    "input_shape = (28, 28, 1)\n",
    "left_input = Input(input_shape)\n",
    "right_input = Input(input_shape)\n",
    "\n",
    "#---->Now we need a convolutional network for the Siamese Legs\n",
    "convnet = Sequential()\n",
    "convnet.add(Conv2D(64,(7,7),activation='relu',input_shape=input_shape,\n",
    "                   kernel_initializer=W_init,kernel_regularizer=l2(2e-4)))\n",
    "convnet.add(MaxPooling2D())\n",
    "convnet.add(Conv2D(128,(4,4),activation='relu',\n",
    "                   kernel_regularizer=l2(2e-4),kernel_initializer=W_init,bias_initializer=b_init))\n",
    "convnet.add(MaxPooling2D())\n",
    "convnet.add(Conv2D(256,(3,3),activation='relu',kernel_initializer=W_init,kernel_regularizer=l2(2e-4),bias_initializer=b_init,padding='same'))\n",
    "convnet.add(Flatten())\n",
    "convnet.add(Dense(1024,activation=\"sigmoid\",kernel_regularizer=l2(1e-3),kernel_initializer=W_init,bias_initializer=b_init))\n",
    "\n",
    "\n",
    "#---->Now we call the convnet using each leg, so the parameters get shared.\n",
    "encoded_l = convnet(left_input)\n",
    "encoded_r = convnet(right_input)\n",
    "\n",
    "#---->Layer to merge two encoded inputs with the l1 distance between them\n",
    "L1_layer = Lambda(lambda tensors:K.abs(tensors[0] - tensors[1]))\n",
    "\n",
    "#---->Get the L1 Distance between the two encoded legs and predict a sigmoid using that.\n",
    "L1_distance = L1_layer([encoded_l, encoded_r])\n",
    "prediction = Dense(1,activation='sigmoid',bias_initializer=b_init)(L1_distance)\n",
    "\n",
    "#---->Now we build the Siamese Model using the two legs as inputs and the final comparison prediction.\n",
    "siamese_net = Model(inputs=[left_input,right_input],outputs=prediction)\n",
    "\n",
    "#---->We should have tried out even more hyperparamter tuning by setting learning rates and momentum params \n",
    "#---->for each convolutional layer. But for now we use a standard Adam optimizer in default settings.\n",
    "optimizer = Adam(lr=1e-3, beta_1=0.9, beta_2=0.999)\n",
    "siamese_net.compile(loss=\"binary_crossentropy\",optimizer=optimizer)\n",
    "\n",
    "siamese_net.count_params()"
   ]
  },
  {
   "cell_type": "markdown",
   "metadata": {},
   "source": [
    "## Get the train and test CSV"
   ]
  },
  {
   "cell_type": "code",
   "execution_count": 5,
   "metadata": {},
   "outputs": [],
   "source": [
    "train_file_path = \"C:/Users/Richeek Das/Downloads/asl/sign_mnist_train.csv\"\n",
    "test_file_path = \"C:/Users/Richeek Das/Downloads/asl/sign_mnist_test.csv\""
   ]
  },
  {
   "cell_type": "code",
   "execution_count": 6,
   "metadata": {},
   "outputs": [],
   "source": [
    "import pandas as pd\n",
    "import numpy as np"
   ]
  },
  {
   "cell_type": "code",
   "execution_count": 7,
   "metadata": {},
   "outputs": [],
   "source": [
    "X_train = pd.read_csv(train_file_path)\n",
    "X_test = pd.read_csv(test_file_path)\n",
    "\n",
    "#---->Set DATASET TRAIN and VALIDATION sizes\n",
    "TRAIN_DATASET_SIZE_PER_CLASS = 125\n",
    "VALID_DATASET_SIZE_PER_CLASS = 50"
   ]
  },
  {
   "cell_type": "markdown",
   "metadata": {},
   "source": [
    "## Preprocess the DataSets\n",
    "\n",
    "First we, reshape the target images into (28, 28)"
   ]
  },
  {
   "cell_type": "code",
   "execution_count": 8,
   "metadata": {},
   "outputs": [],
   "source": [
    "#---->Extracting the labels from the data\n",
    "y_train = X_train[\"label\"]\n",
    "y_test = X_test[\"label\"]\n",
    "\n",
    "#---->Dropping the labels from the X_train and X_test dataframe\n",
    "X_train.drop(columns = [\"label\"], inplace = True)\n",
    "X_test.drop(columns = [\"label\"], inplace = True)\n",
    "\n",
    "X_train = X_train/255\n",
    "X_test = X_test/255\n",
    "\n",
    "#---->Reshaping the data from (m,784) to (m,28,28)\n",
    "X_train = X_train.values.reshape(-1,28,28,1)\n",
    "X_test = X_test.values.reshape(-1,28,28,1)"
   ]
  },
  {
   "cell_type": "markdown",
   "metadata": {},
   "source": [
    "### Get an inverse mapping of the categories to be encoded"
   ]
  },
  {
   "cell_type": "code",
   "execution_count": 9,
   "metadata": {},
   "outputs": [],
   "source": [
    "#---->Get the index list and get an inverse mapping for it\n",
    "index_list = y_train.unique().tolist()          \n",
    "inverse_index_list = np.zeros(25, dtype=int)\n",
    "\n",
    "for i,k in enumerate(index_list) :\n",
    "    inverse_index_list[k] = i"
   ]
  },
  {
   "cell_type": "markdown",
   "metadata": {},
   "source": [
    "### Fill the multi-dimensional arrays to be used\n",
    "\n",
    "Here we fill the Train, Valid and Test Sets, according to the DATASET_SIZE_PER_CLASS parameter."
   ]
  },
  {
   "cell_type": "code",
   "execution_count": 10,
   "metadata": {},
   "outputs": [],
   "source": [
    "#---->Train Set\n",
    "X_fill_calc = np.zeros(25, dtype=int)\n",
    "X_train_new = np.zeros((24,TRAIN_DATASET_SIZE_PER_CLASS,28,28,1))\n",
    "\n",
    "for i, cat in enumerate(y_train.tolist()) :\n",
    "    if(X_fill_calc[cat] < TRAIN_DATASET_SIZE_PER_CLASS):\n",
    "        X_train_new[inverse_index_list[cat]][X_fill_calc[cat]] = X_train[i]\n",
    "        X_fill_calc[cat] = X_fill_calc[cat] + 1"
   ]
  },
  {
   "cell_type": "code",
   "execution_count": 12,
   "metadata": {},
   "outputs": [],
   "source": [
    "#---->Valid Set\n",
    "X_fill_calc = np.zeros(25, dtype=int)\n",
    "X_valid_new = np.zeros((24,VALID_DATASET_SIZE_PER_CLASS,28,28,1))\n",
    "\n",
    "for i, cat in enumerate(y_test.tolist()) :\n",
    "    if(X_fill_calc[cat] < VALID_DATASET_SIZE_PER_CLASS):\n",
    "        X_valid_new[inverse_index_list[cat]][X_fill_calc[cat]] = X_test[i]\n",
    "        X_fill_calc[cat] = X_fill_calc[cat] + 1"
   ]
  },
  {
   "cell_type": "code",
   "execution_count": 13,
   "metadata": {},
   "outputs": [],
   "source": [
    "#---->Test Set\n",
    "X_fill_calc = np.zeros(25, dtype=int)\n",
    "X_test_new = np.zeros((24,200,28,28,1))\n",
    "\n",
    "for i, cat in enumerate(y_train.tolist()) :\n",
    "    if(X_fill_calc[cat] >= 250 and X_fill_calc[cat] < 450):\n",
    "        X_test_new[inverse_index_list[cat]][X_fill_calc[cat] - 250] = X_train[i]\n",
    "    X_fill_calc[cat] = X_fill_calc[cat] + 1"
   ]
  },
  {
   "cell_type": "code",
   "execution_count": 14,
   "metadata": {},
   "outputs": [
    {
     "name": "stdout",
     "output_type": "stream",
     "text": [
      "(24, 125, 28, 28, 1)\n"
     ]
    }
   ],
   "source": [
    "print(X_train_new.shape)"
   ]
  },
  {
   "cell_type": "code",
   "execution_count": 15,
   "metadata": {},
   "outputs": [
    {
     "name": "stdout",
     "output_type": "stream",
     "text": [
      "(24, 50, 28, 28, 1)\n"
     ]
    }
   ],
   "source": [
    "print(X_test_new.shape)"
   ]
  },
  {
   "cell_type": "code",
   "execution_count": 16,
   "metadata": {},
   "outputs": [
    {
     "name": "stdout",
     "output_type": "stream",
     "text": [
      "(24, 200, 28, 28, 1)\n"
     ]
    }
   ],
   "source": [
    "print(X_unseen_new.shape)"
   ]
  },
  {
   "cell_type": "markdown",
   "metadata": {},
   "source": [
    "## Let's see how the images actually look"
   ]
  },
  {
   "cell_type": "code",
   "execution_count": 18,
   "metadata": {},
   "outputs": [
    {
     "data": {
      "text/plain": [
       "<matplotlib.image.AxesImage at 0x281d83a99c8>"
      ]
     },
     "execution_count": 18,
     "metadata": {},
     "output_type": "execute_result"
    },
    {
     "data": {
      "image/png": "[encoded data removed]",
      "text/plain": [
       "<Figure size 144x144 with 1 Axes>"
      ]
     },
     "metadata": {
      "needs_background": "light"
     },
     "output_type": "display_data"
    }
   ],
   "source": [
    "import matplotlib.pyplot as plt\n",
    "plt.figure(figsize = (2,2))\n",
    "plt.imshow(X_train_new[11][45].reshape(28,28), cmap=\"gray\")"
   ]
  },
  {
   "cell_type": "code",
   "execution_count": 19,
   "metadata": {},
   "outputs": [
    {
     "data": {
      "text/plain": [
       "<matplotlib.image.AxesImage at 0x281962f08c8>"
      ]
     },
     "execution_count": 19,
     "metadata": {},
     "output_type": "execute_result"
    },
    {
     "data": {
      "image/png": "[encoded data removed]",
      "text/plain": [
       "<Figure size 144x144 with 1 Axes>"
      ]
     },
     "metadata": {
      "needs_background": "light"
     },
     "output_type": "display_data"
    }
   ],
   "source": [
    "plt.figure(figsize = (2,2))\n",
    "plt.imshow(X_test_new[23][32].reshape(28,28), cmap=\"gray\")"
   ]
  },
  {
   "cell_type": "code",
   "execution_count": 41,
   "metadata": {},
   "outputs": [
    {
     "data": {
      "text/plain": [
       "<matplotlib.image.AxesImage at 0x281fedbf2c8>"
      ]
     },
     "execution_count": 41,
     "metadata": {},
     "output_type": "execute_result"
    },
    {
     "data": {
      "image/png": "[encoded data removed]",
      "text/plain": [
       "<Figure size 144x144 with 1 Axes>"
      ]
     },
     "metadata": {
      "needs_background": "light"
     },
     "output_type": "display_data"
    }
   ],
   "source": [
    "plt.figure(figsize = (2,2))\n",
    "plt.imshow(X_unseen_new[17][36].reshape(28,28), cmap=\"gray\")"
   ]
  },
  {
   "cell_type": "markdown",
   "metadata": {},
   "source": [
    "They look pretty bad :p\n",
    "\n",
    "## Now construct the Loader Class\n",
    "\n",
    "This class will host all the utilities required for training the **Siamese Neural Network**, including loading batches, training and testing tasks to the network."
   ]
  },
  {
   "cell_type": "code",
   "execution_count": null,
   "metadata": {},
   "outputs": [],
   "source": [
    "class SiameseLoader:\n",
    "    \n",
    "    def __init__(self, data_subsets = [\"train\", \"val\", \"test\"]):\n",
    "        self.data = {}\n",
    "        \n",
    "        self.data['train'] = X_train_new\n",
    "        self.data['val'] = X_valid_new\n",
    "        self.data['test'] = X_test_new\n",
    "\n",
    "    def get_batch(self,batch_size,s=\"train\"):\n",
    "        #---->Create batch of n pairs, half same class, half different class\n",
    "        X=self.data[s]\n",
    "        n_classes, n_examples, w, h, _ = X.shape\n",
    "\n",
    "        #---->Randomly sample several classes to use in the batch\n",
    "        categories = rng.choice(n_classes,size=(batch_size,),replace=False)\n",
    "        \n",
    "        #---->Initialize 2 empty arrays for the input image batch\n",
    "        pairs=[np.zeros((batch_size, h, w,1)) for i in range(2)]\n",
    "        \n",
    "        #---->Initialize vector for the targets, and make one half of it '1's, so 2nd half of batch has same class\n",
    "        targets=np.zeros((batch_size,))\n",
    "        targets[batch_size//2:] = 1\n",
    "        \n",
    "        for i in range(batch_size):\n",
    "            category = categories[i]\n",
    "            idx_1 = rng.randint(0, n_examples)\n",
    "            pairs[0][i,:,:,:] = X[category, idx_1]\n",
    "            idx_2 = rng.randint(0, n_examples)\n",
    "            \n",
    "            #---->Pick images of same class for 1st half, different for 2nd\n",
    "            if i >= batch_size // 2:\n",
    "                category_2 = category\n",
    "            else: \n",
    "                #---->Adding a random number to the category to make it different\n",
    "                category_2 = (category + rng.randint(1,n_classes)) % n_classes\n",
    "            pairs[1][i,:,:,:] = X[category_2,idx_2]\n",
    "        return pairs, targets\n",
    "    \n",
    "    def generate(self, batch_size, s=\"train\"):\n",
    "        #---->A batch generator, so that train, val and test generators become available.\n",
    "        while True:\n",
    "            pairs, targets = self.get_batch(batch_size,s)\n",
    "            yield (pairs, targets)    \n",
    "\n",
    "    def make_oneshot_task(self,N,s=\"val\"):\n",
    "        #---->Creates pairs of test images and support sets for N-way One-Shot Classification Task\n",
    "        X=self.data[s]\n",
    "        n_classes, n_examples, w, h, _ = X.shape\n",
    "        indices = rng.randint(0,n_examples,size=(N,))\n",
    "        \n",
    "        #---->Sample random categories for testing\n",
    "        categories = rng.choice(range(n_classes),size=(N,),replace=False)   \n",
    "            \n",
    "        true_category = categories[0]\n",
    "        ex1, ex2 = rng.choice(n_examples,replace=False,size=(2,))\n",
    "        test_image = np.asarray([X[true_category,ex1,:,:]]*N).reshape(N, w, h,1)\n",
    "        \n",
    "        support_set = X[categories,indices,:,:]\n",
    "        support_set[0,:,:] = X[true_category,ex2]\n",
    "        support_set = support_set.reshape(N, w, h,1)\n",
    "        \n",
    "        targets = np.zeros((N,))\n",
    "        targets[0] = 1\n",
    "        targets, test_image, support_set = shuffle(targets, test_image, support_set)\n",
    "        pairs = [test_image,support_set]\n",
    "\n",
    "        return pairs, targets\n",
    "    \n",
    "    def test_oneshot(self,model,N,k,s=\"val\",verbose=0):\n",
    "        #---->Test average N way oneshot learning accuracy of the network over k one-shot learning tasks\n",
    "        n_correct = 0\n",
    "        if verbose:\n",
    "            print(\"Evaluating model on {} random {} way one-shot learning tasks ...\".format(k,N))\n",
    "        for i in range(k):\n",
    "            inputs, targets = self.make_oneshot_task(N,s)\n",
    "            probs = model.predict(inputs)\n",
    "            if np.argmax(probs) == np.argmax(targets):\n",
    "                n_correct+=1\n",
    "        percent_correct = (100.0*n_correct / k)\n",
    "        if verbose:\n",
    "            print(\"Got an average of {}% {} way one-shot learning accuracy\".format(percent_correct,N))\n",
    "        return percent_correct\n",
    "    \n",
    "    def train(self, model, epochs=30, batch_size=16, steps_per_epoch=1000, validation_steps=50):\n",
    "        #---->Training the Network Model using fit_generator\n",
    "        history = model.fit_generator(\n",
    "                self.generate(batch_size),\n",
    "                steps_per_epoch=steps_per_epoch,\n",
    "                epochs=epochs,\n",
    "                validation_data=self.generate(batch_size, s=\"val\"),\n",
    "                validation_steps=validation_steps)\n",
    "        \n",
    "        return model\n",
    "    \n",
    "    "
   ]
  },
  {
   "cell_type": "code",
   "execution_count": 17,
   "metadata": {},
   "outputs": [],
   "source": [
    "#---->Create a class object\n",
    "loader = SiameseLoader()"
   ]
  },
  {
   "cell_type": "markdown",
   "metadata": {},
   "source": [
    "## Train the Network\n",
    "\n",
    "Train the network using the train function of **SiameseLoader** util."
   ]
  },
  {
   "cell_type": "code",
   "execution_count": 23,
   "metadata": {},
   "outputs": [
    {
     "name": "stdout",
     "output_type": "stream",
     "text": [
      "Epoch 1/60\n",
      "1000/1000 [==============================] - 20s 20ms/step - loss: 4.1132 - val_loss: 0.5921\n",
      "Epoch 2/60\n",
      "1000/1000 [==============================] - 18s 18ms/step - loss: 0.4774 - val_loss: 0.3494\n",
      "Epoch 3/60\n",
      "1000/1000 [==============================] - 18s 18ms/step - loss: 0.3312 - val_loss: 0.3381\n",
      "Epoch 4/60\n",
      "1000/1000 [==============================] - 18s 18ms/step - loss: 0.2921 - val_loss: 0.3370\n",
      "Epoch 5/60\n",
      "1000/1000 [==============================] - 18s 18ms/step - loss: 0.2538 - val_loss: 0.4044\n",
      "Epoch 56/60\n",
      "1000/1000 [==============================] - 19s 19ms/step - loss: 0.0731 - val_loss: 0.0764\n",
      "Epoch 57/60\n",
      "1000/1000 [==============================] - 18s 18ms/step - loss: 0.0635 - val_loss: 0.1351\n",
      "Epoch 58/60\n",
      "1000/1000 [==============================] - 19s 19ms/step - loss: 0.0621 - val_loss: 0.1115\n",
      "Epoch 59/60\n",
      "1000/1000 [==============================] - 19s 19ms/step - loss: 0.0549 - val_loss: 0.0618\n",
      "Epoch 60/60\n",
      "1000/1000 [==============================] - 19s 19ms/step - loss: 0.0797 - val_loss: 0.2588\n"
     ]
    }
   ],
   "source": [
    "siamese_model = loader.train(siamese_net, epochs=60, batch_size=23, validation_steps=600)"
   ]
  },
  {
   "cell_type": "markdown",
   "metadata": {},
   "source": [
    "### Quickly Test if the Network is learning anything at all"
   ]
  },
  {
   "cell_type": "code",
   "execution_count": 23,
   "metadata": {},
   "outputs": [
    {
     "name": "stdout",
     "output_type": "stream",
     "text": [
      "Evaluating model on 250 random 24 way one-shot learning tasks ...\n",
      "Got an average of 94.8% 24 way one-shot learning accuracy\n"
     ]
    },
    {
     "data": {
      "text/plain": [
       "94.8"
      ]
     },
     "execution_count": 23,
     "metadata": {},
     "output_type": "execute_result"
    }
   ],
   "source": [
    "loader.test_oneshot(siamese_net,24,250,verbose=True)"
   ]
  },
  {
   "cell_type": "markdown",
   "metadata": {},
   "source": [
    "Yes it's learning !\n",
    "\n",
    "Now let's check the model over k one-shot tasks\n",
    "\n",
    "## Test the Network over the Test set\n",
    "\n",
    "And we also check the Nearest Network Accuracy for a better perspective"
   ]
  },
  {
   "cell_type": "code",
   "execution_count": 24,
   "metadata": {},
   "outputs": [
    {
     "name": "stdout",
     "output_type": "stream",
     "text": [
      "Evaluating model on 450 random 1 way one-shot learning tasks ...\n",
      "Got an average of 100.0% 1 way one-shot learning accuracy\n",
      "Evaluating model on 450 random 1 way one-shot learning tasks ...\n",
      "Got an average of 100.0% 1 way one-shot learning accuracy\n",
      "Evaluating nearest neighbour on 450 unique 1 way one-shot learning tasks ...\n",
      "Evaluating model on 450 random 3 way one-shot learning tasks ...\n"
     ]
    },
    {
     "name": "stderr",
     "output_type": "stream",
     "text": [
      "C:\\Users\\Richeek Das\\anaconda3\\lib\\site-packages\\ipykernel_launcher.py:6: RuntimeWarning: invalid value encountered in sqrt\n",
      "  \n"
     ]
    },
    {
     "name": "stdout",
     "output_type": "stream",
     "text": [
      "Got an average of 99.33333333333333% 3 way one-shot learning accuracy\n",
      "Evaluating model on 450 random 3 way one-shot learning tasks ...\n",
      "Got an average of 100.0% 3 way one-shot learning accuracy\n",
      "Evaluating nearest neighbour on 450 unique 3 way one-shot learning tasks ...\n",
      "Evaluating model on 450 random 5 way one-shot learning tasks ...\n",
      "Got an average of 98.22222222222223% 5 way one-shot learning accuracy\n",
      "Evaluating model on 450 random 5 way one-shot learning tasks ...\n",
      "Got an average of 100.0% 5 way one-shot learning accuracy\n",
      "Evaluating nearest neighbour on 450 unique 5 way one-shot learning tasks ...\n",
      "Evaluating model on 450 random 7 way one-shot learning tasks ...\n",
      "Got an average of 98.44444444444444% 7 way one-shot learning accuracy\n",
      "Evaluating model on 450 random 7 way one-shot learning tasks ...\n",
      "Got an average of 100.0% 7 way one-shot learning accuracy\n",
      "Evaluating nearest neighbour on 450 unique 7 way one-shot learning tasks ...\n",
      "Evaluating model on 450 random 9 way one-shot learning tasks ...\n",
      "Got an average of 98.44444444444444% 9 way one-shot learning accuracy\n",
      "Evaluating model on 450 random 9 way one-shot learning tasks ...\n",
      "Got an average of 100.0% 9 way one-shot learning accuracy\n",
      "Evaluating nearest neighbour on 450 unique 9 way one-shot learning tasks ...\n",
      "Evaluating model on 450 random 11 way one-shot learning tasks ...\n",
      "Got an average of 95.55555555555556% 11 way one-shot learning accuracy\n",
      "Evaluating model on 450 random 11 way one-shot learning tasks ...\n",
      "Got an average of 100.0% 11 way one-shot learning accuracy\n",
      "Evaluating nearest neighbour on 450 unique 11 way one-shot learning tasks ...\n",
      "Evaluating model on 450 random 13 way one-shot learning tasks ...\n",
      "Got an average of 95.55555555555556% 13 way one-shot learning accuracy\n",
      "Evaluating model on 450 random 13 way one-shot learning tasks ...\n",
      "Got an average of 100.0% 13 way one-shot learning accuracy\n",
      "Evaluating nearest neighbour on 450 unique 13 way one-shot learning tasks ...\n",
      "Evaluating model on 450 random 15 way one-shot learning tasks ...\n",
      "Got an average of 95.33333333333333% 15 way one-shot learning accuracy\n",
      "Evaluating model on 450 random 15 way one-shot learning tasks ...\n",
      "Got an average of 100.0% 15 way one-shot learning accuracy\n",
      "Evaluating nearest neighbour on 450 unique 15 way one-shot learning tasks ...\n",
      "Evaluating model on 450 random 17 way one-shot learning tasks ...\n",
      "Got an average of 95.33333333333333% 17 way one-shot learning accuracy\n",
      "Evaluating model on 450 random 17 way one-shot learning tasks ...\n",
      "Got an average of 100.0% 17 way one-shot learning accuracy\n",
      "Evaluating nearest neighbour on 450 unique 17 way one-shot learning tasks ...\n",
      "Evaluating model on 450 random 19 way one-shot learning tasks ...\n",
      "Got an average of 96.66666666666667% 19 way one-shot learning accuracy\n",
      "Evaluating model on 450 random 19 way one-shot learning tasks ...\n",
      "Got an average of 100.0% 19 way one-shot learning accuracy\n",
      "Evaluating nearest neighbour on 450 unique 19 way one-shot learning tasks ...\n",
      "Evaluating model on 450 random 21 way one-shot learning tasks ...\n",
      "Got an average of 95.11111111111111% 21 way one-shot learning accuracy\n",
      "Evaluating model on 450 random 21 way one-shot learning tasks ...\n",
      "Got an average of 100.0% 21 way one-shot learning accuracy\n",
      "Evaluating nearest neighbour on 450 unique 21 way one-shot learning tasks ...\n",
      "Evaluating model on 450 random 23 way one-shot learning tasks ...\n",
      "Got an average of 93.11111111111111% 23 way one-shot learning accuracy\n",
      "Evaluating model on 450 random 23 way one-shot learning tasks ...\n",
      "Got an average of 100.0% 23 way one-shot learning accuracy\n",
      "Evaluating nearest neighbour on 450 unique 23 way one-shot learning tasks ...\n"
     ]
    }
   ],
   "source": [
    "def nearest_neighbour_correct(pairs,targets):\n",
    "    #---->returns 1 if nearest neighbour gets the correct answer for a one-shot task given by (pairs, targets).\n",
    "    L2_distances = np.zeros_like(targets)\n",
    "    for i in range(len(targets)):\n",
    "        L2_distances[i] = np.sum(np.sqrt(pairs[0][i]**2 - pairs[1][i]**2))\n",
    "    if np.argmin(L2_distances) == np.argmax(targets):\n",
    "        return 1\n",
    "    return 0\n",
    "\n",
    "\n",
    "def test_nn_accuracy(N_ways,n_trials,loader):\n",
    "    #---->Returns accuracy of one shot over Nearest Neighbour task.\n",
    "    print(\"Evaluating nearest neighbour on {} unique {} way one-shot learning tasks ...\".format(n_trials,N_ways))\n",
    "\n",
    "    n_right = 0\n",
    "    \n",
    "    for i in range(n_trials):\n",
    "        pairs,targets = loader.make_oneshot_task(N_ways,\"val\")\n",
    "        correct = nearest_neighbour_correct(pairs,targets)\n",
    "        n_right += correct\n",
    "    return 100.0 * n_right / n_trials\n",
    "\n",
    "\n",
    "ways = np.arange(1, 24, 2)\n",
    "resume =  False\n",
    "val_accs, train_accs,nn_accs = [], [], []\n",
    "trials = 450\n",
    "for N in ways:\n",
    "    #---->Get the val accs , test accs and train accs into lists for plotting stuff\n",
    "    val_accs.append(loader.test_oneshot(siamese_model, N,trials, \"val\", verbose=True))\n",
    "    train_accs.append(loader.test_oneshot(siamese_model, N,trials, \"train\", verbose=True))\n",
    "    nn_accs.append(test_nn_accuracy(N,trials, loader))"
   ]
  },
  {
   "cell_type": "markdown",
   "metadata": {},
   "source": [
    "## What's a model without some plots ?\n",
    "\n",
    "Here, you can find the plot of train acc and val acc, as an example. You can find more plots in the [README](https://github.com/sudoRicheek/Siamese-Net-One-Shot-Learning/blob/master/README.md)."
   ]
  },
  {
   "cell_type": "code",
   "execution_count": 25,
   "metadata": {},
   "outputs": [
    {
     "data": {
      "image/png": "[encoded data removed]",
      "text/plain": [
       "<Figure size 432x288 with 1 Axes>"
      ]
     },
     "metadata": {
      "needs_background": "light"
     },
     "output_type": "display_data"
    },
    {
     "data": {
      "image/png": "[encoded data removed]",
      "text/plain": [
       "<Figure size 432x288 with 2 Axes>"
      ]
     },
     "metadata": {
      "needs_background": "light"
     },
     "output_type": "display_data"
    }
   ],
   "source": [
    "fig,ax = plt.subplots(1)\n",
    "ax.plot(ways,val_accs,\"m\",label=\"Siamese(val set)\")\n",
    "ax.plot(ways,train_accs,\"y\",label=\"Siamese(train set)\")\n",
    "plt.plot(ways,nn_accs,label=\"Nearest neighbour\")\n",
    "\n",
    "ax.plot(ways,100.0/ways,\"g\",label=\"Random guessing\")\n",
    "plt.xlabel(\"Number of possible classes in one-shot tasks\")\n",
    "plt.ylabel(\"% Accuracy\")\n",
    "plt.title(\"Gesture Detection on The ASL Dataset\")\n",
    "box = ax.get_position()\n",
    "ax.set_position([box.x0, box.y0, box.width * 0.8, box.height])\n",
    "ax.legend(loc='center left', bbox_to_anchor=(1, 0.5))\n",
    "inputs,targets = loader.make_oneshot_task(24,\"val\")\n",
    "plt.show()\n",
    "plot_oneshot_task(inputs)"
   ]
  },
  {
   "cell_type": "markdown",
   "metadata": {},
   "source": [
    "## Let's save the model weights and the model architecture"
   ]
  },
  {
   "cell_type": "code",
   "execution_count": 20,
   "metadata": {},
   "outputs": [],
   "source": [
    "weights_path = \"C:/Users/Richeek Das/Downloads/siamese_layer_drop_eightdata.h5\"\n",
    "json_path = \"C:/Users/Richeek Das/Downloads/arch_layer_drop_eight_data.json\""
   ]
  },
  {
   "cell_type": "code",
   "execution_count": 46,
   "metadata": {},
   "outputs": [
    {
     "name": "stdout",
     "output_type": "stream",
     "text": [
      "saving\n"
     ]
    }
   ],
   "source": [
    "print(\"saving\")            \n",
    "siamese_model.save_weights(weights_path)\n",
    "model_json = siamese_model.to_json()\n",
    "\n",
    "with open(json_path, \"w\") as json_file:\n",
    "    json_file.write(model_json)"
   ]
  }
 ],
 "metadata": {
  "kernelspec": {
   "display_name": "Python 3",
   "language": "python",
   "name": "python3"
  },
  "language_info": {
   "codemirror_mode": {
    "name": "ipython",
    "version": 3
   },
   "file_extension": ".py",
   "mimetype": "text/x-python",
   "name": "python",
   "nbconvert_exporter": "python",
   "pygments_lexer": "ipython3",
   "version": "3.7.6"
  }
 },
 "nbformat": 4,
 "nbformat_minor": 4
}
